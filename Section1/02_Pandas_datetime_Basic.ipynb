{
 "cells": [
  {
   "cell_type": "markdown",
   "id": "dabcc3b8",
   "metadata": {},
   "source": [
    "# 시계열 관련 NumPy 및 Pandas 기능"
   ]
  },
  {
   "cell_type": "markdown",
   "id": "26905b2e",
   "metadata": {},
   "source": [
    "## python, numpy, pandas 날짜 타입 비교 및 정리\n",
    "\n",
    "|라이브러리|날짜, 시간 클래스| 타임델타 클래스|\n",
    "|-------|-------------|-------------|\n",
    "|datetime|datetime, date, time|timedelta|\n",
    "|numpy|datetime64|timedelta64|\n",
    "|panads|Timestamp|Timedelta|\n",
    "\n",
    "- datetime은 python 설치 시 기본적으로 내장된 라이브러리로, 날짜를 쓸 것인지, 시간을 쓸 것인지, 날짜와 시간을 합쳐쓸 것인지에 따라 클래스가 분화되어 있음.   \n",
    "예를들어 `2021-3-16` (날짜)을 표시하고 싶으면 `date` 클래스를 사용하고, `2021-3-16 12:34:2` (날짜+시간)를 표시하고 싶으면 `datetime` 클래스를 사용.  \n",
    "\n",
    "\n",
    "- `datetime64`나 `Timestamp`는 각각 numpy, pandas 라이브러리에서 새로 정의한 날짜시간 클래스.   \n",
    "이 둘은 한 클래스로 날짜, 시간, 날짜+시간을 모두 정의할 수 있는 것이 특징."
   ]
  },
  {
   "cell_type": "markdown",
   "id": "ce48965d",
   "metadata": {},
   "source": [
    "### 날짜 데이터 정의 - python "
   ]
  },
  {
   "cell_type": "code",
   "execution_count": 3,
   "id": "d936cd2f",
   "metadata": {},
   "outputs": [
    {
     "data": {
      "text/plain": [
       "datetime.date(2023, 8, 12)"
      ]
     },
     "execution_count": 3,
     "metadata": {},
     "output_type": "execute_result"
    }
   ],
   "source": [
    "import datetime\n",
    "\n",
    "datetime.date(2023, 8, 12) # 날짜 정의(date)"
   ]
  },
  {
   "cell_type": "code",
   "execution_count": 5,
   "id": "859456dc",
   "metadata": {},
   "outputs": [
    {
     "data": {
      "text/plain": [
       "datetime.datetime(2023, 8, 12, 19, 43, 25)"
      ]
     },
     "execution_count": 5,
     "metadata": {},
     "output_type": "execute_result"
    }
   ],
   "source": [
    "datetime.datetime(2023, 8, 12, 19, 43, 25) # 날짜+시간 정의(datetime)"
   ]
  },
  {
   "cell_type": "code",
   "execution_count": 6,
   "id": "11e3a0d2",
   "metadata": {},
   "outputs": [
    {
     "data": {
      "text/plain": [
       "datetime.time(19, 43, 25)"
      ]
     },
     "execution_count": 6,
     "metadata": {},
     "output_type": "execute_result"
    }
   ],
   "source": [
    "datetime.time(19, 43, 25) # 시간 정의(time)"
   ]
  },
  {
   "cell_type": "markdown",
   "id": "f6e2b0cd",
   "metadata": {},
   "source": [
    "### 날짜 데이터 정의 - numpy"
   ]
  },
  {
   "cell_type": "code",
   "execution_count": 8,
   "id": "4624b84b",
   "metadata": {},
   "outputs": [
    {
     "data": {
      "text/plain": [
       "numpy.datetime64('2023-08-12T19:45:30')"
      ]
     },
     "execution_count": 8,
     "metadata": {},
     "output_type": "execute_result"
    }
   ],
   "source": [
    "import numpy as np\n",
    "\n",
    "np.datetime64('2023-08-12 19:45:30')"
   ]
  },
  {
   "cell_type": "markdown",
   "id": "18d401cf",
   "metadata": {},
   "source": [
    "### 날짜 데이터 정의 - pandas \n",
    "- pd.Timestamp :  python datetime.datetime 의 Pandas version\n",
    "- pd.to_datetime :  Scalar, array-like, Series or DataFrame/dictionary 형태 data를 pandas DatetimeIndex로 날짜 변환."
   ]
  },
  {
   "cell_type": "code",
   "execution_count": 9,
   "id": "013c80f5",
   "metadata": {},
   "outputs": [
    {
     "data": {
      "text/plain": [
       "Timestamp('2023-08-12 00:00:00')"
      ]
     },
     "execution_count": 9,
     "metadata": {},
     "output_type": "execute_result"
    }
   ],
   "source": [
    "import pandas as pd\n",
    "\n",
    "pd.Timestamp(2023, 8, 12)"
   ]
  },
  {
   "cell_type": "code",
   "execution_count": 11,
   "id": "08c73bd4",
   "metadata": {},
   "outputs": [
    {
     "data": {
      "text/plain": [
       "Timestamp('2023-08-12 19:45:30')"
      ]
     },
     "execution_count": 11,
     "metadata": {},
     "output_type": "execute_result"
    }
   ],
   "source": [
    "pd.Timestamp(\"2023-08-12 19:45:30\") # string형으로 매개변수 받아도 알아서 파싱함"
   ]
  },
  {
   "cell_type": "code",
   "execution_count": 12,
   "id": "dce31f0a",
   "metadata": {},
   "outputs": [
    {
     "data": {
      "text/plain": [
       "Timestamp('2023-08-12 19:45:30')"
      ]
     },
     "execution_count": 12,
     "metadata": {},
     "output_type": "execute_result"
    }
   ],
   "source": [
    "pd.Timestamp(\"2023/08/12 19:45:30\")"
   ]
  },
  {
   "cell_type": "code",
   "execution_count": 16,
   "id": "e74b6650",
   "metadata": {},
   "outputs": [
    {
     "data": {
      "text/plain": [
       "DatetimeIndex(['2023-08-12', '2023-08-13'], dtype='datetime64[ns]', freq=None)"
      ]
     },
     "execution_count": 16,
     "metadata": {},
     "output_type": "execute_result"
    }
   ],
   "source": [
    "pd.to_datetime([\"2023/8/12\", \"2023/8/13\"]) # 주로 인덱스를 만들 때 to_datetime()이용"
   ]
  },
  {
   "cell_type": "markdown",
   "id": "6ffc0741",
   "metadata": {},
   "source": [
    "### Numpy 의 datetime64 format\n",
    "\n",
    "- NumPy 날짜 배열은 ns(나노초) 단위의 datetime64 객체입니다. \n",
    "- 내부 저장 단위는 문자열 형태에서 자동으로 선택되며 날짜 단위 또는 시간 단위가 될 수 있습니다.   \n",
    "- 날짜 단위는 년('Y'), 월('M'), 주('W'), 일('D')이고 시간 단위는 시('h'), 분('m'), 초('s'), 밀리초('ms') 입니다."
   ]
  },
  {
   "cell_type": "code",
   "execution_count": 28,
   "id": "4ac1302d",
   "metadata": {},
   "outputs": [
    {
     "data": {
      "text/plain": [
       "0   2022-08-11 12:01:01\n",
       "1   2023-08-11 12:01:02\n",
       "2   2023-08-12 12:01:03\n",
       "3   2023-08-12 12:01:04\n",
       "dtype: datetime64[ns]"
      ]
     },
     "execution_count": 28,
     "metadata": {},
     "output_type": "execute_result"
    }
   ],
   "source": [
    "order_date = pd.Series(['2022-08-11 12:01:01', '2023-08-11 12:01:02',\n",
    "                        '2023-08-12 12:01:03', '2023-08-12 12:01:04'])\n",
    "order_date = pd.to_datetime(order_date)\n",
    "order_date"
   ]
  },
  {
   "cell_type": "markdown",
   "id": "c812788c",
   "metadata": {},
   "source": [
    "`datetime64[D]` - 날짜"
   ]
  },
  {
   "cell_type": "raw",
   "id": "76976d85",
   "metadata": {},
   "source": [
    "np.array(order_date, dtype='datetime64[D])"
   ]
  },
  {
   "cell_type": "markdown",
   "id": "a4273e0b",
   "metadata": {},
   "source": [
    "`datetime64[M]` - 월"
   ]
  },
  {
   "cell_type": "markdown",
   "id": "9c35e42e",
   "metadata": {},
   "source": [
    "order_date_monthly = np.array(order_date, dtype='datetime64[M]')\n",
    "order_date_monthly"
   ]
  },
  {
   "cell_type": "code",
   "execution_count": 24,
   "id": "d6a0d24b",
   "metadata": {},
   "outputs": [
    {
     "data": {
      "text/plain": [
       "array(['2022-08', '2023-08', '2023-08', '2023-08'], dtype='datetime64[M]')"
      ]
     },
     "execution_count": 24,
     "metadata": {},
     "output_type": "execute_result"
    }
   ],
   "source": [
    "np.array(order_date, dtype='datetime64[M]')"
   ]
  },
  {
   "cell_type": "markdown",
   "id": "d32e3082",
   "metadata": {},
   "source": [
    "`'datetime64[Y]` - 연"
   ]
  },
  {
   "cell_type": "code",
   "execution_count": 27,
   "id": "f5c911d2",
   "metadata": {},
   "outputs": [
    {
     "data": {
      "text/plain": [
       "array(['2022', '2023', '2023', '2023'], dtype='datetime64[Y]')"
      ]
     },
     "execution_count": 27,
     "metadata": {},
     "output_type": "execute_result"
    }
   ],
   "source": [
    "np.array(order_date, dtype='datetime64[Y]')"
   ]
  },
  {
   "cell_type": "markdown",
   "id": "2361ffdb",
   "metadata": {},
   "source": [
    "## DateTimeIndex 를 가진 Pandas 시계열 data 생성 및 처리\n",
    "\n",
    "- Timestamp을 index 로 하는 data 를 시계열데이터 (TimeSeries) 라고 부른다. 즉, index 가 DatetimeIndex 인 데이터이다.\n",
    "\n",
    "- 시계열관련 class 와 생성 방법\n",
    "\n",
    "| class         |           설명          |                               생성방법 |Pandas Class|\n",
    "|---------------|:-----------------------:|---------------------------------------:|------------:|\n",
    "| Timestamp     |     하나의 timestamp    |                 to_datetime, Timestamp |pandas.Timestamp|\n",
    "| DatetimeIndex | timestamp 타입의 인덱스 | to_datetime, date_range, DatetimeIndex |pandas.DatetimeIndex|\n",
    "| Period        |       time period       |                                 Period |pandas.Period|"
   ]
  },
  {
   "cell_type": "markdown",
   "id": "6be28111",
   "metadata": {},
   "source": [
    "## to_datetime()\n",
    "* 날짜/시간을 나타내는 **여러 종류의 문자열**을 자동으로 datetime 자료형으로 바꾼 후, DatetimeIndex 자료형 인덱스를 생성"
   ]
  },
  {
   "cell_type": "code",
   "execution_count": 29,
   "id": "3f2fc5b3",
   "metadata": {},
   "outputs": [
    {
     "data": {
      "text/plain": [
       "DatetimeIndex(['2010-01-01', '2015-07-01', '2016-05-01', '2020-01-01',\n",
       "               '2019-12-25', '2021-12-20', '2022-12-31'],\n",
       "              dtype='datetime64[ns]', freq=None)"
      ]
     },
     "execution_count": 29,
     "metadata": {},
     "output_type": "execute_result"
    }
   ],
   "source": [
    "date_str = ['2010-01-01', '2015 7 1', 'May 1 2016',\n",
    "            '2020/01/01', 'Dec, 25, 2019', 'dec 20 2021', '2022 12 31']\n",
    "pd.to_datetime(date_str)"
   ]
  },
  {
   "cell_type": "markdown",
   "id": "b86fd8fc",
   "metadata": {},
   "source": [
    "## date_range\n",
    "```python\n",
    "pd.date_range(start, end, periods, freq)\n",
    "```\n",
    "\n",
    "- 모든 날짜/시간을 일일히 입력할 필요없이 **시작일과 종료일** 또는 **시작일과 기간**을 입력하면 범위 내의 인덱스를 생성  \n",
    "\n",
    "- freq\n",
    "    - S: 초  \n",
    "    - T: 분  \n",
    "    - H: 시간  \n",
    "    - D: 일(day)  \n",
    "    - B: 주말이 아닌 평일 (Business Day)\n",
    "    - W: 주(일요일)  \n",
    "    - M: 각 달(month)의 마지막 날  \n",
    "    - MS: 각 달의 첫날  \n",
    "\n",
    "[frequency alias](https://pandas.pydata.org/pandas-docs/stable/user_guide/timeseries.html#offset-aliases) 참조"
   ]
  },
  {
   "cell_type": "markdown",
   "id": "9e92386a",
   "metadata": {},
   "source": [
    "start ~ 10일"
   ]
  },
  {
   "cell_type": "code",
   "execution_count": 30,
   "id": "9243b8d5",
   "metadata": {},
   "outputs": [
    {
     "data": {
      "text/plain": [
       "DatetimeIndex(['2020-01-01', '2020-01-02', '2020-01-03', '2020-01-04',\n",
       "               '2020-01-05', '2020-01-06', '2020-01-07', '2020-01-08',\n",
       "               '2020-01-09', '2020-01-10'],\n",
       "              dtype='datetime64[ns]', freq='D')"
      ]
     },
     "execution_count": 30,
     "metadata": {},
     "output_type": "execute_result"
    }
   ],
   "source": [
    "pd.date_range(start='2020-01-01', end='2020-01-10')"
   ]
  },
  {
   "cell_type": "code",
   "execution_count": 31,
   "id": "74a14486",
   "metadata": {},
   "outputs": [
    {
     "data": {
      "text/plain": [
       "DatetimeIndex(['2020-01-01', '2020-01-02', '2020-01-03', '2020-01-04',\n",
       "               '2020-01-05', '2020-01-06', '2020-01-07', '2020-01-08',\n",
       "               '2020-01-09', '2020-01-10'],\n",
       "              dtype='datetime64[ns]', freq='D')"
      ]
     },
     "execution_count": 31,
     "metadata": {},
     "output_type": "execute_result"
    }
   ],
   "source": [
    "pd.date_range(start='2020-01-01', periods=10)"
   ]
  },
  {
   "cell_type": "markdown",
   "id": "4d1a2298",
   "metadata": {},
   "source": [
    "start~end 사이 평일"
   ]
  },
  {
   "cell_type": "code",
   "execution_count": 32,
   "id": "d5cca15b",
   "metadata": {},
   "outputs": [
    {
     "data": {
      "text/plain": [
       "DatetimeIndex(['2020-01-01', '2020-01-02', '2020-01-03', '2020-01-06',\n",
       "               '2020-01-07', '2020-01-08', '2020-01-09', '2020-01-10'],\n",
       "              dtype='datetime64[ns]', freq='B')"
      ]
     },
     "execution_count": 32,
     "metadata": {},
     "output_type": "execute_result"
    }
   ],
   "source": [
    "pd.date_range(start='2020-01-01', end='2020-01-10', freq='B')"
   ]
  },
  {
   "cell_type": "code",
   "execution_count": 33,
   "id": "604fb7e2",
   "metadata": {},
   "outputs": [
    {
     "data": {
      "text/plain": [
       "DatetimeIndex(['2020-01-05'], dtype='datetime64[ns]', freq='W-SUN')"
      ]
     },
     "execution_count": 33,
     "metadata": {},
     "output_type": "execute_result"
    }
   ],
   "source": [
    "pd.date_range(start='2020-01-01', end='2020-01-10', freq='W')"
   ]
  },
  {
   "cell_type": "markdown",
   "id": "74a35848",
   "metadata": {},
   "source": [
    "start ~ 12 개월"
   ]
  },
  {
   "cell_type": "code",
   "execution_count": 38,
   "id": "f2968d78",
   "metadata": {},
   "outputs": [
    {
     "data": {
      "text/plain": [
       "DatetimeIndex(['2020-01-01', '2020-02-01', '2020-03-01', '2020-04-01',\n",
       "               '2020-05-01', '2020-06-01', '2020-07-01', '2020-08-01',\n",
       "               '2020-09-01', '2020-10-01', '2020-11-01', '2020-12-01'],\n",
       "              dtype='datetime64[ns]', freq='MS')"
      ]
     },
     "execution_count": 38,
     "metadata": {},
     "output_type": "execute_result"
    }
   ],
   "source": [
    "dates = pd.date_range(start='2020-01-01', end='2020-12-31', freq='MS')\n",
    "dates"
   ]
  },
  {
   "cell_type": "markdown",
   "id": "eec1ba51",
   "metadata": {},
   "source": [
    "DataFrame의 index를 datetime으로 변경"
   ]
  },
  {
   "cell_type": "code",
   "execution_count": 41,
   "id": "21efd331",
   "metadata": {},
   "outputs": [
    {
     "data": {
      "text/html": [
       "<div>\n",
       "<style scoped>\n",
       "    .dataframe tbody tr th:only-of-type {\n",
       "        vertical-align: middle;\n",
       "    }\n",
       "\n",
       "    .dataframe tbody tr th {\n",
       "        vertical-align: top;\n",
       "    }\n",
       "\n",
       "    .dataframe thead th {\n",
       "        text-align: right;\n",
       "    }\n",
       "</style>\n",
       "<table border=\"1\" class=\"dataframe\">\n",
       "  <thead>\n",
       "    <tr style=\"text-align: right;\">\n",
       "      <th></th>\n",
       "      <th>n1</th>\n",
       "      <th>n2</th>\n",
       "      <th>n3</th>\n",
       "      <th>n4</th>\n",
       "    </tr>\n",
       "  </thead>\n",
       "  <tbody>\n",
       "    <tr>\n",
       "      <th>2020-01-01</th>\n",
       "      <td>-0.983529</td>\n",
       "      <td>0.144481</td>\n",
       "      <td>-0.528798</td>\n",
       "      <td>0.129207</td>\n",
       "    </tr>\n",
       "    <tr>\n",
       "      <th>2020-02-01</th>\n",
       "      <td>-0.377228</td>\n",
       "      <td>-1.067514</td>\n",
       "      <td>-0.333861</td>\n",
       "      <td>-0.567020</td>\n",
       "    </tr>\n",
       "    <tr>\n",
       "      <th>2020-03-01</th>\n",
       "      <td>1.113282</td>\n",
       "      <td>-0.591668</td>\n",
       "      <td>-0.022317</td>\n",
       "      <td>0.517764</td>\n",
       "    </tr>\n",
       "    <tr>\n",
       "      <th>2020-04-01</th>\n",
       "      <td>-0.550014</td>\n",
       "      <td>2.514815</td>\n",
       "      <td>0.198019</td>\n",
       "      <td>-0.390812</td>\n",
       "    </tr>\n",
       "    <tr>\n",
       "      <th>2020-05-01</th>\n",
       "      <td>-0.961776</td>\n",
       "      <td>-0.877569</td>\n",
       "      <td>0.596779</td>\n",
       "      <td>0.593964</td>\n",
       "    </tr>\n",
       "    <tr>\n",
       "      <th>2020-06-01</th>\n",
       "      <td>1.580036</td>\n",
       "      <td>0.510605</td>\n",
       "      <td>-0.759578</td>\n",
       "      <td>-1.275237</td>\n",
       "    </tr>\n",
       "    <tr>\n",
       "      <th>2020-07-01</th>\n",
       "      <td>-2.473699</td>\n",
       "      <td>-0.424449</td>\n",
       "      <td>-0.761420</td>\n",
       "      <td>-1.081312</td>\n",
       "    </tr>\n",
       "    <tr>\n",
       "      <th>2020-08-01</th>\n",
       "      <td>0.765377</td>\n",
       "      <td>-0.126212</td>\n",
       "      <td>0.901820</td>\n",
       "      <td>2.025968</td>\n",
       "    </tr>\n",
       "    <tr>\n",
       "      <th>2020-09-01</th>\n",
       "      <td>1.576088</td>\n",
       "      <td>-1.238450</td>\n",
       "      <td>0.203459</td>\n",
       "      <td>-0.939864</td>\n",
       "    </tr>\n",
       "    <tr>\n",
       "      <th>2020-10-01</th>\n",
       "      <td>-1.011708</td>\n",
       "      <td>1.089498</td>\n",
       "      <td>1.648083</td>\n",
       "      <td>1.863296</td>\n",
       "    </tr>\n",
       "    <tr>\n",
       "      <th>2020-11-01</th>\n",
       "      <td>-0.749188</td>\n",
       "      <td>0.409083</td>\n",
       "      <td>-2.767253</td>\n",
       "      <td>1.888922</td>\n",
       "    </tr>\n",
       "    <tr>\n",
       "      <th>2020-12-01</th>\n",
       "      <td>0.460488</td>\n",
       "      <td>-0.941406</td>\n",
       "      <td>-0.248722</td>\n",
       "      <td>-0.021112</td>\n",
       "    </tr>\n",
       "  </tbody>\n",
       "</table>\n",
       "</div>"
      ],
      "text/plain": [
       "                  n1        n2        n3        n4\n",
       "2020-01-01 -0.983529  0.144481 -0.528798  0.129207\n",
       "2020-02-01 -0.377228 -1.067514 -0.333861 -0.567020\n",
       "2020-03-01  1.113282 -0.591668 -0.022317  0.517764\n",
       "2020-04-01 -0.550014  2.514815  0.198019 -0.390812\n",
       "2020-05-01 -0.961776 -0.877569  0.596779  0.593964\n",
       "2020-06-01  1.580036  0.510605 -0.759578 -1.275237\n",
       "2020-07-01 -2.473699 -0.424449 -0.761420 -1.081312\n",
       "2020-08-01  0.765377 -0.126212  0.901820  2.025968\n",
       "2020-09-01  1.576088 -1.238450  0.203459 -0.939864\n",
       "2020-10-01 -1.011708  1.089498  1.648083  1.863296\n",
       "2020-11-01 -0.749188  0.409083 -2.767253  1.888922\n",
       "2020-12-01  0.460488 -0.941406 -0.248722 -0.021112"
      ]
     },
     "execution_count": 41,
     "metadata": {},
     "output_type": "execute_result"
    }
   ],
   "source": [
    "a = np.random.standard_normal((12,4))\n",
    "df = pd.DataFrame(a, columns=['n1', 'n2', 'n3', 'n4'])\n",
    "df.index = dates # dataframe의 index를 datetime으로 변경\n",
    "# 인덱스가 datetime으로 되어있는 dataframe := 시계열 데이터\n",
    "df"
   ]
  },
  {
   "cell_type": "code",
   "execution_count": 42,
   "id": "df2249a6",
   "metadata": {},
   "outputs": [
    {
     "name": "stdout",
     "output_type": "stream",
     "text": [
      "<class 'pandas.core.frame.DataFrame'>\n",
      "DatetimeIndex: 12 entries, 2020-01-01 to 2020-12-01\n",
      "Freq: MS\n",
      "Data columns (total 4 columns):\n",
      " #   Column  Non-Null Count  Dtype  \n",
      "---  ------  --------------  -----  \n",
      " 0   n1      12 non-null     float64\n",
      " 1   n2      12 non-null     float64\n",
      " 2   n3      12 non-null     float64\n",
      " 3   n4      12 non-null     float64\n",
      "dtypes: float64(4)\n",
      "memory usage: 480.0 bytes\n"
     ]
    }
   ],
   "source": [
    "df.info()"
   ]
  },
  {
   "cell_type": "markdown",
   "id": "d443bd2c",
   "metadata": {},
   "source": [
    "## Pandas DatetimeIndex를 이용한 작업"
   ]
  },
  {
   "cell_type": "markdown",
   "id": "b7188f70",
   "metadata": {},
   "source": [
    "기존의  numpy datetime64 format 변수를 사용하여 인덱스 설정"
   ]
  },
  {
   "cell_type": "code",
   "execution_count": 43,
   "id": "4d3f1a38",
   "metadata": {},
   "outputs": [
    {
     "data": {
      "text/html": [
       "<div>\n",
       "<style scoped>\n",
       "    .dataframe tbody tr th:only-of-type {\n",
       "        vertical-align: middle;\n",
       "    }\n",
       "\n",
       "    .dataframe tbody tr th {\n",
       "        vertical-align: top;\n",
       "    }\n",
       "\n",
       "    .dataframe thead th {\n",
       "        text-align: right;\n",
       "    }\n",
       "</style>\n",
       "<table border=\"1\" class=\"dataframe\">\n",
       "  <thead>\n",
       "    <tr style=\"text-align: right;\">\n",
       "      <th></th>\n",
       "      <th>date</th>\n",
       "      <th>a</th>\n",
       "    </tr>\n",
       "  </thead>\n",
       "  <tbody>\n",
       "    <tr>\n",
       "      <th>0</th>\n",
       "      <td>2022-08-31</td>\n",
       "      <td>1.722487</td>\n",
       "    </tr>\n",
       "    <tr>\n",
       "      <th>1</th>\n",
       "      <td>2022-09-30</td>\n",
       "      <td>-0.829599</td>\n",
       "    </tr>\n",
       "    <tr>\n",
       "      <th>2</th>\n",
       "      <td>2022-10-31</td>\n",
       "      <td>-0.624612</td>\n",
       "    </tr>\n",
       "    <tr>\n",
       "      <th>3</th>\n",
       "      <td>2022-11-30</td>\n",
       "      <td>-1.607755</td>\n",
       "    </tr>\n",
       "    <tr>\n",
       "      <th>4</th>\n",
       "      <td>2022-12-31</td>\n",
       "      <td>0.906414</td>\n",
       "    </tr>\n",
       "    <tr>\n",
       "      <th>5</th>\n",
       "      <td>2023-01-31</td>\n",
       "      <td>1.621817</td>\n",
       "    </tr>\n",
       "    <tr>\n",
       "      <th>6</th>\n",
       "      <td>2023-02-28</td>\n",
       "      <td>1.680950</td>\n",
       "    </tr>\n",
       "    <tr>\n",
       "      <th>7</th>\n",
       "      <td>2023-03-31</td>\n",
       "      <td>-1.865256</td>\n",
       "    </tr>\n",
       "    <tr>\n",
       "      <th>8</th>\n",
       "      <td>2023-04-30</td>\n",
       "      <td>-1.040136</td>\n",
       "    </tr>\n",
       "    <tr>\n",
       "      <th>9</th>\n",
       "      <td>2023-05-31</td>\n",
       "      <td>0.876277</td>\n",
       "    </tr>\n",
       "    <tr>\n",
       "      <th>10</th>\n",
       "      <td>2023-06-30</td>\n",
       "      <td>-0.220096</td>\n",
       "    </tr>\n",
       "    <tr>\n",
       "      <th>11</th>\n",
       "      <td>2023-07-31</td>\n",
       "      <td>-0.948812</td>\n",
       "    </tr>\n",
       "  </tbody>\n",
       "</table>\n",
       "</div>"
      ],
      "text/plain": [
       "         date         a\n",
       "0  2022-08-31  1.722487\n",
       "1  2022-09-30 -0.829599\n",
       "2  2022-10-31 -0.624612\n",
       "3  2022-11-30 -1.607755\n",
       "4  2022-12-31  0.906414\n",
       "5  2023-01-31  1.621817\n",
       "6  2023-02-28  1.680950\n",
       "7  2023-03-31 -1.865256\n",
       "8  2023-04-30 -1.040136\n",
       "9  2023-05-31  0.876277\n",
       "10 2023-06-30 -0.220096\n",
       "11 2023-07-31 -0.948812"
      ]
     },
     "execution_count": 43,
     "metadata": {},
     "output_type": "execute_result"
    }
   ],
   "source": [
    "dates = pd.date_range('2022-08-01', '2023-08-01', freq='M')\n",
    "a = np.random.randn(12)\n",
    "df = pd.DataFrame({'date':dates, 'a':a})\n",
    "df"
   ]
  },
  {
   "cell_type": "code",
   "execution_count": 45,
   "id": "70d05ac8",
   "metadata": {},
   "outputs": [
    {
     "data": {
      "text/html": [
       "<div>\n",
       "<style scoped>\n",
       "    .dataframe tbody tr th:only-of-type {\n",
       "        vertical-align: middle;\n",
       "    }\n",
       "\n",
       "    .dataframe tbody tr th {\n",
       "        vertical-align: top;\n",
       "    }\n",
       "\n",
       "    .dataframe thead th {\n",
       "        text-align: right;\n",
       "    }\n",
       "</style>\n",
       "<table border=\"1\" class=\"dataframe\">\n",
       "  <thead>\n",
       "    <tr style=\"text-align: right;\">\n",
       "      <th></th>\n",
       "      <th>a</th>\n",
       "    </tr>\n",
       "    <tr>\n",
       "      <th>date</th>\n",
       "      <th></th>\n",
       "    </tr>\n",
       "  </thead>\n",
       "  <tbody>\n",
       "    <tr>\n",
       "      <th>2022-08-31</th>\n",
       "      <td>1.722487</td>\n",
       "    </tr>\n",
       "    <tr>\n",
       "      <th>2022-09-30</th>\n",
       "      <td>-0.829599</td>\n",
       "    </tr>\n",
       "    <tr>\n",
       "      <th>2022-10-31</th>\n",
       "      <td>-0.624612</td>\n",
       "    </tr>\n",
       "    <tr>\n",
       "      <th>2022-11-30</th>\n",
       "      <td>-1.607755</td>\n",
       "    </tr>\n",
       "    <tr>\n",
       "      <th>2022-12-31</th>\n",
       "      <td>0.906414</td>\n",
       "    </tr>\n",
       "    <tr>\n",
       "      <th>2023-01-31</th>\n",
       "      <td>1.621817</td>\n",
       "    </tr>\n",
       "    <tr>\n",
       "      <th>2023-02-28</th>\n",
       "      <td>1.680950</td>\n",
       "    </tr>\n",
       "    <tr>\n",
       "      <th>2023-03-31</th>\n",
       "      <td>-1.865256</td>\n",
       "    </tr>\n",
       "    <tr>\n",
       "      <th>2023-04-30</th>\n",
       "      <td>-1.040136</td>\n",
       "    </tr>\n",
       "    <tr>\n",
       "      <th>2023-05-31</th>\n",
       "      <td>0.876277</td>\n",
       "    </tr>\n",
       "    <tr>\n",
       "      <th>2023-06-30</th>\n",
       "      <td>-0.220096</td>\n",
       "    </tr>\n",
       "    <tr>\n",
       "      <th>2023-07-31</th>\n",
       "      <td>-0.948812</td>\n",
       "    </tr>\n",
       "  </tbody>\n",
       "</table>\n",
       "</div>"
      ],
      "text/plain": [
       "                   a\n",
       "date                \n",
       "2022-08-31  1.722487\n",
       "2022-09-30 -0.829599\n",
       "2022-10-31 -0.624612\n",
       "2022-11-30 -1.607755\n",
       "2022-12-31  0.906414\n",
       "2023-01-31  1.621817\n",
       "2023-02-28  1.680950\n",
       "2023-03-31 -1.865256\n",
       "2023-04-30 -1.040136\n",
       "2023-05-31  0.876277\n",
       "2023-06-30 -0.220096\n",
       "2023-07-31 -0.948812"
      ]
     },
     "execution_count": 45,
     "metadata": {},
     "output_type": "execute_result"
    }
   ],
   "source": [
    "df.set_index('date', inplace=True)\n",
    "df"
   ]
  },
  {
   "cell_type": "code",
   "execution_count": 46,
   "id": "36cdf0af",
   "metadata": {},
   "outputs": [
    {
     "name": "stdout",
     "output_type": "stream",
     "text": [
      "<class 'pandas.core.frame.DataFrame'>\n",
      "DatetimeIndex: 12 entries, 2022-08-31 to 2023-07-31\n",
      "Data columns (total 1 columns):\n",
      " #   Column  Non-Null Count  Dtype  \n",
      "---  ------  --------------  -----  \n",
      " 0   a       12 non-null     float64\n",
      "dtypes: float64(1)\n",
      "memory usage: 192.0 bytes\n"
     ]
    }
   ],
   "source": [
    "df.info()"
   ]
  },
  {
   "cell_type": "markdown",
   "id": "8ebe9682",
   "metadata": {},
   "source": [
    "### Subsetting data\n",
    "\n",
    "이제 DatetimeIndex를 사용하여 데이터 하위 집합을 선택할 수 있습니다."
   ]
  },
  {
   "cell_type": "code",
   "execution_count": 48,
   "id": "2d77690d",
   "metadata": {},
   "outputs": [
    {
     "data": {
      "text/html": [
       "<div>\n",
       "<style scoped>\n",
       "    .dataframe tbody tr th:only-of-type {\n",
       "        vertical-align: middle;\n",
       "    }\n",
       "\n",
       "    .dataframe tbody tr th {\n",
       "        vertical-align: top;\n",
       "    }\n",
       "\n",
       "    .dataframe thead th {\n",
       "        text-align: right;\n",
       "    }\n",
       "</style>\n",
       "<table border=\"1\" class=\"dataframe\">\n",
       "  <thead>\n",
       "    <tr style=\"text-align: right;\">\n",
       "      <th></th>\n",
       "      <th>a</th>\n",
       "    </tr>\n",
       "    <tr>\n",
       "      <th>date</th>\n",
       "      <th></th>\n",
       "    </tr>\n",
       "  </thead>\n",
       "  <tbody>\n",
       "    <tr>\n",
       "      <th>2023-01-31</th>\n",
       "      <td>1.621817</td>\n",
       "    </tr>\n",
       "    <tr>\n",
       "      <th>2023-02-28</th>\n",
       "      <td>1.680950</td>\n",
       "    </tr>\n",
       "    <tr>\n",
       "      <th>2023-03-31</th>\n",
       "      <td>-1.865256</td>\n",
       "    </tr>\n",
       "    <tr>\n",
       "      <th>2023-04-30</th>\n",
       "      <td>-1.040136</td>\n",
       "    </tr>\n",
       "    <tr>\n",
       "      <th>2023-05-31</th>\n",
       "      <td>0.876277</td>\n",
       "    </tr>\n",
       "    <tr>\n",
       "      <th>2023-06-30</th>\n",
       "      <td>-0.220096</td>\n",
       "    </tr>\n",
       "    <tr>\n",
       "      <th>2023-07-31</th>\n",
       "      <td>-0.948812</td>\n",
       "    </tr>\n",
       "  </tbody>\n",
       "</table>\n",
       "</div>"
      ],
      "text/plain": [
       "                   a\n",
       "date                \n",
       "2023-01-31  1.621817\n",
       "2023-02-28  1.680950\n",
       "2023-03-31 -1.865256\n",
       "2023-04-30 -1.040136\n",
       "2023-05-31  0.876277\n",
       "2023-06-30 -0.220096\n",
       "2023-07-31 -0.948812"
      ]
     },
     "execution_count": 48,
     "metadata": {},
     "output_type": "execute_result"
    }
   ],
   "source": [
    "df.loc['2023']"
   ]
  },
  {
   "cell_type": "code",
   "execution_count": 50,
   "id": "74ba0b1d",
   "metadata": {},
   "outputs": [
    {
     "data": {
      "text/html": [
       "<div>\n",
       "<style scoped>\n",
       "    .dataframe tbody tr th:only-of-type {\n",
       "        vertical-align: middle;\n",
       "    }\n",
       "\n",
       "    .dataframe tbody tr th {\n",
       "        vertical-align: top;\n",
       "    }\n",
       "\n",
       "    .dataframe thead th {\n",
       "        text-align: right;\n",
       "    }\n",
       "</style>\n",
       "<table border=\"1\" class=\"dataframe\">\n",
       "  <thead>\n",
       "    <tr style=\"text-align: right;\">\n",
       "      <th></th>\n",
       "      <th>a</th>\n",
       "    </tr>\n",
       "    <tr>\n",
       "      <th>date</th>\n",
       "      <th></th>\n",
       "    </tr>\n",
       "  </thead>\n",
       "  <tbody>\n",
       "    <tr>\n",
       "      <th>2022-08-31</th>\n",
       "      <td>1.722487</td>\n",
       "    </tr>\n",
       "    <tr>\n",
       "      <th>2022-09-30</th>\n",
       "      <td>-0.829599</td>\n",
       "    </tr>\n",
       "    <tr>\n",
       "      <th>2022-10-31</th>\n",
       "      <td>-0.624612</td>\n",
       "    </tr>\n",
       "    <tr>\n",
       "      <th>2022-11-30</th>\n",
       "      <td>-1.607755</td>\n",
       "    </tr>\n",
       "    <tr>\n",
       "      <th>2022-12-31</th>\n",
       "      <td>0.906414</td>\n",
       "    </tr>\n",
       "  </tbody>\n",
       "</table>\n",
       "</div>"
      ],
      "text/plain": [
       "                   a\n",
       "date                \n",
       "2022-08-31  1.722487\n",
       "2022-09-30 -0.829599\n",
       "2022-10-31 -0.624612\n",
       "2022-11-30 -1.607755\n",
       "2022-12-31  0.906414"
      ]
     },
     "execution_count": 50,
     "metadata": {},
     "output_type": "execute_result"
    }
   ],
   "source": [
    "df.iloc[:5]"
   ]
  },
  {
   "cell_type": "code",
   "execution_count": 51,
   "id": "65801f7a",
   "metadata": {},
   "outputs": [
    {
     "data": {
      "text/html": [
       "<div>\n",
       "<style scoped>\n",
       "    .dataframe tbody tr th:only-of-type {\n",
       "        vertical-align: middle;\n",
       "    }\n",
       "\n",
       "    .dataframe tbody tr th {\n",
       "        vertical-align: top;\n",
       "    }\n",
       "\n",
       "    .dataframe thead th {\n",
       "        text-align: right;\n",
       "    }\n",
       "</style>\n",
       "<table border=\"1\" class=\"dataframe\">\n",
       "  <thead>\n",
       "    <tr style=\"text-align: right;\">\n",
       "      <th></th>\n",
       "      <th>a</th>\n",
       "    </tr>\n",
       "    <tr>\n",
       "      <th>date</th>\n",
       "      <th></th>\n",
       "    </tr>\n",
       "  </thead>\n",
       "  <tbody>\n",
       "    <tr>\n",
       "      <th>2022-08-31</th>\n",
       "      <td>1.722487</td>\n",
       "    </tr>\n",
       "    <tr>\n",
       "      <th>2022-09-30</th>\n",
       "      <td>-0.829599</td>\n",
       "    </tr>\n",
       "    <tr>\n",
       "      <th>2022-10-31</th>\n",
       "      <td>-0.624612</td>\n",
       "    </tr>\n",
       "    <tr>\n",
       "      <th>2022-11-30</th>\n",
       "      <td>-1.607755</td>\n",
       "    </tr>\n",
       "    <tr>\n",
       "      <th>2022-12-31</th>\n",
       "      <td>0.906414</td>\n",
       "    </tr>\n",
       "    <tr>\n",
       "      <th>2023-01-31</th>\n",
       "      <td>1.621817</td>\n",
       "    </tr>\n",
       "    <tr>\n",
       "      <th>2023-02-28</th>\n",
       "      <td>1.680950</td>\n",
       "    </tr>\n",
       "    <tr>\n",
       "      <th>2023-03-31</th>\n",
       "      <td>-1.865256</td>\n",
       "    </tr>\n",
       "    <tr>\n",
       "      <th>2023-04-30</th>\n",
       "      <td>-1.040136</td>\n",
       "    </tr>\n",
       "    <tr>\n",
       "      <th>2023-05-31</th>\n",
       "      <td>0.876277</td>\n",
       "    </tr>\n",
       "  </tbody>\n",
       "</table>\n",
       "</div>"
      ],
      "text/plain": [
       "                   a\n",
       "date                \n",
       "2022-08-31  1.722487\n",
       "2022-09-30 -0.829599\n",
       "2022-10-31 -0.624612\n",
       "2022-11-30 -1.607755\n",
       "2022-12-31  0.906414\n",
       "2023-01-31  1.621817\n",
       "2023-02-28  1.680950\n",
       "2023-03-31 -1.865256\n",
       "2023-04-30 -1.040136\n",
       "2023-05-31  0.876277"
      ]
     },
     "execution_count": 51,
     "metadata": {},
     "output_type": "execute_result"
    }
   ],
   "source": [
    "df.loc['2022-08':'2023-05']"
   ]
  },
  {
   "cell_type": "code",
   "execution_count": 52,
   "id": "42518219",
   "metadata": {},
   "outputs": [
    {
     "data": {
      "text/plain": [
       "Int64Index([31, 30, 31, 30, 31, 31, 28, 31, 30, 31, 30, 31], dtype='int64', name='date')"
      ]
     },
     "execution_count": 52,
     "metadata": {},
     "output_type": "execute_result"
    }
   ],
   "source": [
    "df.index.day"
   ]
  },
  {
   "cell_type": "code",
   "execution_count": 53,
   "id": "530d2ae8",
   "metadata": {},
   "outputs": [
    {
     "data": {
      "text/plain": [
       "Int64Index([2, 4, 0, 2, 5, 1, 1, 4, 6, 2, 4, 0], dtype='int64', name='date')"
      ]
     },
     "execution_count": 53,
     "metadata": {},
     "output_type": "execute_result"
    }
   ],
   "source": [
    "df.index.dayofweek # 무슨 요일입니까?"
   ]
  },
  {
   "cell_type": "markdown",
   "id": "49d54bbd",
   "metadata": {},
   "source": [
    "### Datetime Components\n",
    "\n",
    "Pandas Datetime 변수에는 여러 가지 유용한 구성 요소가 있습니다. DatetimeIndex를 사용하여 월, 연도, 요일, 분기 등과 같은 항목을 추출할 수 있습니다."
   ]
  },
  {
   "cell_type": "markdown",
   "id": "aac59d3e",
   "metadata": {},
   "source": [
    "DatetimeIndex에서 date 추출"
   ]
  },
  {
   "cell_type": "markdown",
   "id": "f01a84d5",
   "metadata": {},
   "source": [
    "- DatetimeIndex에서 day of week 추출 (Day of Week: Monday=0, Sunday=6)"
   ]
  },
  {
   "cell_type": "code",
   "execution_count": 56,
   "id": "ce60c17d",
   "metadata": {},
   "outputs": [
    {
     "data": {
      "text/html": [
       "<div>\n",
       "<style scoped>\n",
       "    .dataframe tbody tr th:only-of-type {\n",
       "        vertical-align: middle;\n",
       "    }\n",
       "\n",
       "    .dataframe tbody tr th {\n",
       "        vertical-align: top;\n",
       "    }\n",
       "\n",
       "    .dataframe thead th {\n",
       "        text-align: right;\n",
       "    }\n",
       "</style>\n",
       "<table border=\"1\" class=\"dataframe\">\n",
       "  <thead>\n",
       "    <tr style=\"text-align: right;\">\n",
       "      <th></th>\n",
       "      <th>a</th>\n",
       "      <th>DayOfWeek</th>\n",
       "    </tr>\n",
       "    <tr>\n",
       "      <th>date</th>\n",
       "      <th></th>\n",
       "      <th></th>\n",
       "    </tr>\n",
       "  </thead>\n",
       "  <tbody>\n",
       "    <tr>\n",
       "      <th>2022-08-31</th>\n",
       "      <td>1.722487</td>\n",
       "      <td>2</td>\n",
       "    </tr>\n",
       "    <tr>\n",
       "      <th>2022-09-30</th>\n",
       "      <td>-0.829599</td>\n",
       "      <td>4</td>\n",
       "    </tr>\n",
       "    <tr>\n",
       "      <th>2022-10-31</th>\n",
       "      <td>-0.624612</td>\n",
       "      <td>0</td>\n",
       "    </tr>\n",
       "    <tr>\n",
       "      <th>2022-11-30</th>\n",
       "      <td>-1.607755</td>\n",
       "      <td>2</td>\n",
       "    </tr>\n",
       "    <tr>\n",
       "      <th>2022-12-31</th>\n",
       "      <td>0.906414</td>\n",
       "      <td>5</td>\n",
       "    </tr>\n",
       "    <tr>\n",
       "      <th>2023-01-31</th>\n",
       "      <td>1.621817</td>\n",
       "      <td>1</td>\n",
       "    </tr>\n",
       "    <tr>\n",
       "      <th>2023-02-28</th>\n",
       "      <td>1.680950</td>\n",
       "      <td>1</td>\n",
       "    </tr>\n",
       "    <tr>\n",
       "      <th>2023-03-31</th>\n",
       "      <td>-1.865256</td>\n",
       "      <td>4</td>\n",
       "    </tr>\n",
       "    <tr>\n",
       "      <th>2023-04-30</th>\n",
       "      <td>-1.040136</td>\n",
       "      <td>6</td>\n",
       "    </tr>\n",
       "    <tr>\n",
       "      <th>2023-05-31</th>\n",
       "      <td>0.876277</td>\n",
       "      <td>2</td>\n",
       "    </tr>\n",
       "    <tr>\n",
       "      <th>2023-06-30</th>\n",
       "      <td>-0.220096</td>\n",
       "      <td>4</td>\n",
       "    </tr>\n",
       "    <tr>\n",
       "      <th>2023-07-31</th>\n",
       "      <td>-0.948812</td>\n",
       "      <td>0</td>\n",
       "    </tr>\n",
       "  </tbody>\n",
       "</table>\n",
       "</div>"
      ],
      "text/plain": [
       "                   a  DayOfWeek\n",
       "date                           \n",
       "2022-08-31  1.722487          2\n",
       "2022-09-30 -0.829599          4\n",
       "2022-10-31 -0.624612          0\n",
       "2022-11-30 -1.607755          2\n",
       "2022-12-31  0.906414          5\n",
       "2023-01-31  1.621817          1\n",
       "2023-02-28  1.680950          1\n",
       "2023-03-31 -1.865256          4\n",
       "2023-04-30 -1.040136          6\n",
       "2023-05-31  0.876277          2\n",
       "2023-06-30 -0.220096          4\n",
       "2023-07-31 -0.948812          0"
      ]
     },
     "execution_count": 56,
     "metadata": {},
     "output_type": "execute_result"
    }
   ],
   "source": [
    "df['DayOfWeek'] = df.index.dayofweek\n",
    "df"
   ]
  },
  {
   "cell_type": "markdown",
   "id": "a470f25d",
   "metadata": {},
   "source": [
    "## resample\n",
    "\n",
    "- 시간 간격을 재조정   \n",
    "- 원래의 데이터가 그룹으로 묶이기 때문에 그룹 연산을 해서 대표값을 구해야 한다."
   ]
  },
  {
   "cell_type": "code",
   "execution_count": 69,
   "id": "24898417",
   "metadata": {},
   "outputs": [
    {
     "data": {
      "text/plain": [
       "2022-01-01    0.846097\n",
       "2022-01-02    0.205624\n",
       "2022-01-03   -0.351736\n",
       "2022-01-04    0.319066\n",
       "2022-01-05    0.146334\n",
       "                ...   \n",
       "2023-05-11    0.024430\n",
       "2023-05-12   -1.289116\n",
       "2023-05-13    0.147529\n",
       "2023-05-14   -0.543046\n",
       "2023-05-15    1.196162\n",
       "Freq: D, Length: 500, dtype: float64"
      ]
     },
     "execution_count": 69,
     "metadata": {},
     "output_type": "execute_result"
    }
   ],
   "source": [
    "ts = pd.Series(np.random.randn(500), index=pd.date_range('2022-01-01', periods=500, freq=\"D\"))\n",
    "ts"
   ]
  },
  {
   "cell_type": "code",
   "execution_count": 77,
   "id": "efd5bdd9",
   "metadata": {},
   "outputs": [
    {
     "data": {
      "text/plain": [
       "2022-01-02    1.051721\n",
       "2022-01-09    4.401934\n",
       "2022-01-16   -1.316383\n",
       "2022-01-23    0.354772\n",
       "2022-01-30    0.165437\n",
       "                ...   \n",
       "2023-04-23    0.448040\n",
       "2023-04-30   -1.913579\n",
       "2023-05-07    0.742402\n",
       "2023-05-14   -1.243936\n",
       "2023-05-21    1.196162\n",
       "Freq: W-SUN, Length: 73, dtype: float64"
      ]
     },
     "execution_count": 77,
     "metadata": {},
     "output_type": "execute_result"
    }
   ],
   "source": [
    "ts.resample('W').sum() "
   ]
  },
  {
   "cell_type": "code",
   "execution_count": 79,
   "id": "d08961f5",
   "metadata": {},
   "outputs": [
    {
     "ename": "NameError",
     "evalue": "name 'mean' is not defined",
     "output_type": "error",
     "traceback": [
      "\u001b[1;31m---------------------------------------------------------------------------\u001b[0m",
      "\u001b[1;31mNameError\u001b[0m                                 Traceback (most recent call last)",
      "Cell \u001b[1;32mIn[79], line 1\u001b[0m\n\u001b[1;32m----> 1\u001b[0m \u001b[38;5;28msum\u001b[39m, mean, \u001b[38;5;28mmin\u001b[39m, \u001b[38;5;28mmax\u001b[39m\n",
      "\u001b[1;31mNameError\u001b[0m: name 'mean' is not defined"
     ]
    }
   ],
   "source": [
    "sum, mean, min, max"
   ]
  },
  {
   "cell_type": "markdown",
   "id": "91e34d44",
   "metadata": {},
   "source": [
    "주 단위로 down-sampling"
   ]
  },
  {
   "cell_type": "markdown",
   "id": "0c6b2ef4",
   "metadata": {},
   "source": [
    "주 단위 평균"
   ]
  },
  {
   "cell_type": "markdown",
   "id": "cc2e37ad",
   "metadata": {},
   "source": [
    "월 단위 평균"
   ]
  }
 ],
 "metadata": {
  "kernelspec": {
   "display_name": "Python 3 (ipykernel)",
   "language": "python",
   "name": "python3"
  },
  "language_info": {
   "codemirror_mode": {
    "name": "ipython",
    "version": 3
   },
   "file_extension": ".py",
   "mimetype": "text/x-python",
   "name": "python",
   "nbconvert_exporter": "python",
   "pygments_lexer": "ipython3",
   "version": "3.11.3"
  }
 },
 "nbformat": 4,
 "nbformat_minor": 5
}
